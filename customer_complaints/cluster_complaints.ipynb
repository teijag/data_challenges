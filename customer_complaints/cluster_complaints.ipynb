{
 "cells": [
  {
   "cell_type": "code",
   "execution_count": 83,
   "metadata": {},
   "outputs": [],
   "source": [
    "import pandas as pd\n",
    "from sklearn.cluster import KMeans\n",
    "from scipy.spatial.distance import cdist\n",
    "import numpy as np\n",
    "import matplotlib.pyplot as plt"
   ]
  },
  {
   "cell_type": "code",
   "execution_count": 84,
   "metadata": {},
   "outputs": [],
   "source": [
    "df = pd.read_csv(\"issues.csv\")"
   ]
  },
  {
   "cell_type": "code",
   "execution_count": 85,
   "metadata": {},
   "outputs": [
    {
     "data": {
      "text/html": [
       "<div>\n",
       "<style scoped>\n",
       "    .dataframe tbody tr th:only-of-type {\n",
       "        vertical-align: middle;\n",
       "    }\n",
       "\n",
       "    .dataframe tbody tr th {\n",
       "        vertical-align: top;\n",
       "    }\n",
       "\n",
       "    .dataframe thead th {\n",
       "        text-align: right;\n",
       "    }\n",
       "</style>\n",
       "<table border=\"1\" class=\"dataframe\">\n",
       "  <thead>\n",
       "    <tr style=\"text-align: right;\">\n",
       "      <th></th>\n",
       "      <th>PROBLEM_TYPE</th>\n",
       "      <th>COUNT</th>\n",
       "      <th>AVG_CALLS_TO_RESOLVE</th>\n",
       "      <th>AVG_RESOLUTION_TIME</th>\n",
       "      <th>REOCCUR_RATE</th>\n",
       "      <th>REPLACEMENT_RATE</th>\n",
       "    </tr>\n",
       "  </thead>\n",
       "  <tbody>\n",
       "    <tr>\n",
       "      <th>0</th>\n",
       "      <td>Admin Password Lost</td>\n",
       "      <td>45</td>\n",
       "      <td>2.3</td>\n",
       "      <td>54</td>\n",
       "      <td>0.15</td>\n",
       "      <td>0.00</td>\n",
       "    </tr>\n",
       "    <tr>\n",
       "      <th>1</th>\n",
       "      <td>Windows Reboots automatically</td>\n",
       "      <td>47</td>\n",
       "      <td>3.1</td>\n",
       "      <td>132</td>\n",
       "      <td>0.30</td>\n",
       "      <td>0.03</td>\n",
       "    </tr>\n",
       "    <tr>\n",
       "      <th>2</th>\n",
       "      <td>System not coming up after reboot</td>\n",
       "      <td>12</td>\n",
       "      <td>4.0</td>\n",
       "      <td>154</td>\n",
       "      <td>0.02</td>\n",
       "      <td>0.05</td>\n",
       "    </tr>\n",
       "    <tr>\n",
       "      <th>3</th>\n",
       "      <td>Slow system</td>\n",
       "      <td>165</td>\n",
       "      <td>1.2</td>\n",
       "      <td>32</td>\n",
       "      <td>0.03</td>\n",
       "      <td>0.00</td>\n",
       "    </tr>\n",
       "    <tr>\n",
       "      <th>4</th>\n",
       "      <td>Internet Connectivity loss</td>\n",
       "      <td>321</td>\n",
       "      <td>1.0</td>\n",
       "      <td>5</td>\n",
       "      <td>0.21</td>\n",
       "      <td>0.00</td>\n",
       "    </tr>\n",
       "  </tbody>\n",
       "</table>\n",
       "</div>"
      ],
      "text/plain": [
       "                        PROBLEM_TYPE  COUNT  AVG_CALLS_TO_RESOLVE  \\\n",
       "0                Admin Password Lost     45                   2.3   \n",
       "1      Windows Reboots automatically     47                   3.1   \n",
       "2  System not coming up after reboot     12                   4.0   \n",
       "3                        Slow system    165                   1.2   \n",
       "4         Internet Connectivity loss    321                   1.0   \n",
       "\n",
       "   AVG_RESOLUTION_TIME  REOCCUR_RATE  REPLACEMENT_RATE  \n",
       "0                   54          0.15              0.00  \n",
       "1                  132          0.30              0.03  \n",
       "2                  154          0.02              0.05  \n",
       "3                   32          0.03              0.00  \n",
       "4                    5          0.21              0.00  "
      ]
     },
     "execution_count": 85,
     "metadata": {},
     "output_type": "execute_result"
    }
   ],
   "source": [
    "df.head()"
   ]
  },
  {
   "cell_type": "code",
   "execution_count": 86,
   "metadata": {},
   "outputs": [
    {
     "name": "stdout",
     "output_type": "stream",
     "text": [
      "<class 'pandas.core.frame.DataFrame'>\n",
      "RangeIndex: 20 entries, 0 to 19\n",
      "Data columns (total 6 columns):\n",
      "PROBLEM_TYPE            20 non-null object\n",
      "COUNT                   20 non-null int64\n",
      "AVG_CALLS_TO_RESOLVE    20 non-null float64\n",
      "AVG_RESOLUTION_TIME     20 non-null int64\n",
      "REOCCUR_RATE            20 non-null float64\n",
      "REPLACEMENT_RATE        20 non-null float64\n",
      "dtypes: float64(3), int64(2), object(1)\n",
      "memory usage: 1.0+ KB\n"
     ]
    }
   ],
   "source": [
    "df.info()"
   ]
  },
  {
   "cell_type": "markdown",
   "metadata": {},
   "source": [
    "With a multidimensional dataset, we can reduce its dimension through PCA or TSNE to 2-D. That will make the modeleling faster and easy to visualize. However, since we just have 5 features here and they are all numeric, we can just use spatial distance to do the clustering."
   ]
  },
  {
   "cell_type": "code",
   "execution_count": 87,
   "metadata": {},
   "outputs": [
    {
     "data": {
      "image/png": "[encoded data removed]",
      "text/plain": [
       "<Figure size 432x288 with 1 Axes>"
      ]
     },
     "metadata": {
      "needs_background": "light"
     },
     "output_type": "display_data"
    }
   ],
   "source": [
    "cluster_df = df.drop('PROBLEM_TYPE',axis = 1)\n",
    "average_distance = []\n",
    "for k in range(1,6):\n",
    "    # initialize the model\n",
    "    kmeans = KMeans(n_clusters = k)\n",
    "    # fit and assign data to cluster\n",
    "    kmeans.fit(cluster_df)\n",
    "    pred = kmeans.predict(cluster_df)\n",
    "    # take the average distance to centroids\n",
    "    average_distance.append(sum(np.min(cdist(cluster_df, kmeans.cluster_centers_,'euclidean'),axis = 1))/pred.shape[0])\n",
    "\n",
    "#visualize the objective value against different k value\n",
    "plt.plot(range(1,6),average_distance,marker = 'x')\n",
    "plt.xlabel('n_cluster')\n",
    "plt.ylabel('average distance')\n",
    "plt.show()"
   ]
  },
  {
   "cell_type": "markdown",
   "metadata": {},
   "source": [
    "There are 2 \"elbows\" in the graph - and the decrease in the average distance slows down after n = 3. Let's try visualize the difference clustering the data into 3 groups."
   ]
  },
  {
   "cell_type": "code",
   "execution_count": 88,
   "metadata": {},
   "outputs": [],
   "source": [
    "kmeans = KMeans(n_clusters = 3)\n",
    "kmeans.fit(cluster_df)\n",
    "pred = kmeans.predict(cluster_df)\n",
    "df['group'] =  pred"
   ]
  },
  {
   "cell_type": "code",
   "execution_count": 89,
   "metadata": {},
   "outputs": [
    {
     "data": {
      "image/png": "[encoded data removed]",
      "text/plain": [
       "<Figure size 432x288 with 1 Axes>"
      ]
     },
     "metadata": {
      "needs_background": "light"
     },
     "output_type": "display_data"
    },
    {
     "data": {
      "image/png": "[encoded data removed]",
      "text/plain": [
       "<Figure size 432x288 with 1 Axes>"
      ]
     },
     "metadata": {
      "needs_background": "light"
     },
     "output_type": "display_data"
    },
    {
     "data": {
      "image/png": "[encoded data removed]",
      "text/plain": [
       "<Figure size 432x288 with 1 Axes>"
      ]
     },
     "metadata": {
      "needs_background": "light"
     },
     "output_type": "display_data"
    },
    {
     "data": {
      "image/png": "[encoded data removed]",
      "text/plain": [
       "<Figure size 432x288 with 1 Axes>"
      ]
     },
     "metadata": {
      "needs_background": "light"
     },
     "output_type": "display_data"
    },
    {
     "data": {
      "image/png": "[encoded data removed]",
      "text/plain": [
       "<Figure size 432x288 with 1 Axes>"
      ]
     },
     "metadata": {
      "needs_background": "light"
     },
     "output_type": "display_data"
    }
   ],
   "source": [
    "for feature in df.columns.drop(['PROBLEM_TYPE','group']):\n",
    "    plt.boxplot([df[df['group'] == 0][feature],\n",
    "                 df[df['group'] == 1][feature],\n",
    "                 df[df['group'] == 2][feature],\n",
    "                 df[feature]],labels = ('Group 1','Group 2','Group 3','All'))\n",
    "    #plt.xlabel('Group')\n",
    "    plt.ylabel(feature)\n",
    "    plt.show()"
   ]
  },
  {
   "cell_type": "markdown",
   "metadata": {},
   "source": [
    "By comparing across group and feature, we can see the three clusters are pretty different: \n",
    "\n",
    "Group 1 is for rare but time-consuming problems that sometimes need replacement. They occur the least often, take multiple calls and relatively more time to resolve, have a range of reoccur rate and replacement rate. \n",
    "\n",
    "Group 2 is for frequent, easy, re-occuring problems. They occur the most, take the least time or low number of calls to resolve, relatively more likely to reoccur, and low replacement rate.\n",
    "\n",
    "Group 3 is the \"middle-ground\". They occur between 100 to 300 times, take relatively less time or low number of calls to resolve, less likely to reoccur, and low replacement rate except 1 outlier. \n",
    "\n",
    "Let's check the problem types in each group to see if our interpretations from the boxplots make common sense."
   ]
  },
  {
   "cell_type": "code",
   "execution_count": 90,
   "metadata": {},
   "outputs": [
    {
     "name": "stdout",
     "output_type": "stream",
     "text": [
      "**********Group 1 problem type**********\n",
      "Admin Password Lost\n",
      "Cannot recover using restore\n",
      "Dark areas on screen\n",
      "Intermittent Blank Screen\n",
      "Laptop loses charge very fast\n",
      "Laptop not charging\n",
      "Missing peripheral driver\n",
      "New Installation hangs\n",
      "System not coming up after reboot\n",
      "Windows Reboots automatically\n",
      "\n",
      "**********Group 2 problem type**********\n",
      "Cannot detect keyboard\n",
      "Cannot detect mouse\n",
      "Head phone jack not working\n",
      "Internet Connectivity loss\n",
      "\n",
      "**********Group 3 problem type**********\n",
      "Cannot find printer\n",
      "DVD read error\n",
      "Slow system\n",
      "Too many popups in Browser\n",
      "WIFI not functioning\n",
      "anti-virus not working\n",
      "\n"
     ]
    }
   ],
   "source": [
    "for i in range(0,3):\n",
    "    print('**********Group',i+1,'problem type**********')\n",
    "    types = np.sort(df[df['group'] == i]['PROBLEM_TYPE'].unique())\n",
    "    print(*types, sep = \"\\n\")\n",
    "    print()"
   ]
  },
  {
   "cell_type": "markdown",
   "metadata": {},
   "source": [
    "From our analysis, there is a huge opportunity - we can automate the problem solving for Group 2 because it's taking very little time yet it's the most frequent. We can implement bot conversation flow or Q&A on the website to redirect complaints from agents to the automation. We also need to take a closer look on Group 1 and Group 2 to see if there's any hardware improvement we need to work on to reduce replacement and reoccuring rate."
   ]
  },
  {
   "cell_type": "code",
   "execution_count": null,
   "metadata": {},
   "outputs": [],
   "source": []
  }
 ],
 "metadata": {
  "kernelspec": {
   "display_name": "Python 3",
   "language": "python",
   "name": "python3"
  },
  "language_info": {
   "codemirror_mode": {
    "name": "ipython",
    "version": 3
   },
   "file_extension": ".py",
   "mimetype": "text/x-python",
   "name": "python",
   "nbconvert_exporter": "python",
   "pygments_lexer": "ipython3",
   "version": "3.6.8"
  }
 },
 "nbformat": 4,
 "nbformat_minor": 2
}
